{
 "cells": [
  {
   "cell_type": "code",
   "execution_count": 1,
   "metadata": {},
   "outputs": [
    {
     "name": "stderr",
     "output_type": "stream",
     "text": [
      "c:\\LLM_projects\\llmenv\\Lib\\site-packages\\pinecone\\data\\index.py:1: TqdmWarning: IProgress not found. Please update jupyter and ipywidgets. See https://ipywidgets.readthedocs.io/en/stable/user_install.html\n",
      "  from tqdm.autonotebook import tqdm\n"
     ]
    }
   ],
   "source": [
    "### Importing libraries\n",
    "import openai\n",
    "import langchain\n",
    "import pinecone\n",
    "from langchain.document_loaders import PyPDFDirectoryLoader\n",
    "from langchain.text_splitter import RecursiveCharacterTextSplitter\n",
    "from langchain.embeddings import SentenceTransformerEmbeddings\n",
    "from langchain.vectorstores import Pinecone\n",
    "import google.generativeai as genai\n",
    "from langchain_google_genai import ChatGoogleGenerativeAI\n",
    "from sentence_transformers import SentenceTransformer\n",
    "from langchain.prompts import PromptTemplate\n"
   ]
  },
  {
   "cell_type": "code",
   "execution_count": 2,
   "metadata": {},
   "outputs": [
    {
     "data": {
      "text/plain": [
       "True"
      ]
     },
     "execution_count": 2,
     "metadata": {},
     "output_type": "execute_result"
    }
   ],
   "source": [
    "from dotenv import load_dotenv\n",
    "load_dotenv()"
   ]
  },
  {
   "cell_type": "code",
   "execution_count": 3,
   "metadata": {},
   "outputs": [],
   "source": [
    "import os"
   ]
  },
  {
   "cell_type": "code",
   "execution_count": 4,
   "metadata": {},
   "outputs": [],
   "source": [
    "#### Lets read the dicument\n",
    "\n",
    "def read_doc(directory):\n",
    "    file_reader=PyPDFDirectoryLoader(directory)\n",
    "    documents=file_reader.load()\n",
    "    return documents"
   ]
  },
  {
   "cell_type": "code",
   "execution_count": 5,
   "metadata": {},
   "outputs": [
    {
     "data": {
      "text/plain": [
       "22"
      ]
     },
     "execution_count": 5,
     "metadata": {},
     "output_type": "execute_result"
    }
   ],
   "source": [
    "document=read_doc('documents/')\n",
    "len(document)"
   ]
  },
  {
   "cell_type": "code",
   "execution_count": 6,
   "metadata": {},
   "outputs": [],
   "source": [
    "#### Divide the docs into chinks\n",
    "\n",
    "def chunk_data(document,chunk_size=800,chunk_over_lap=50):\n",
    "    text_splitter=RecursiveCharacterTextSplitter(chunk_size=chunk_size,chunk_overlap=chunk_over_lap)\n",
    "    docs=text_splitter.split_documents(documents=document)\n",
    "    return docs\n",
    "\n",
    "\n",
    "\n"
   ]
  },
  {
   "cell_type": "code",
   "execution_count": 7,
   "metadata": {},
   "outputs": [
    {
     "data": {
      "text/plain": [
       "58"
      ]
     },
     "execution_count": 7,
     "metadata": {},
     "output_type": "execute_result"
    }
   ],
   "source": [
    "doc=chunk_data(document)\n",
    "len(doc)"
   ]
  },
  {
   "cell_type": "code",
   "execution_count": 8,
   "metadata": {},
   "outputs": [
    {
     "name": "stderr",
     "output_type": "stream",
     "text": [
      "c:\\LLM_projects\\llmenv\\Lib\\site-packages\\langchain_core\\_api\\deprecation.py:119: LangChainDeprecationWarning: The class `HuggingFaceEmbeddings` was deprecated in LangChain 0.2.2 and will be removed in 0.3.0. An updated version of the class exists in the langchain-huggingface package and should be used instead. To use it run `pip install -U langchain-huggingface` and import as `from langchain_huggingface import HuggingFaceEmbeddings`.\n",
      "  warn_deprecated(\n",
      "c:\\LLM_projects\\llmenv\\Lib\\site-packages\\huggingface_hub\\file_download.py:1132: FutureWarning: `resume_download` is deprecated and will be removed in version 1.0.0. Downloads always resume when possible. If you want to force a new download, use `force_download=True`.\n",
      "  warnings.warn(\n"
     ]
    }
   ],
   "source": [
    "#### EMbedding Techinique\n",
    "embeddings = SentenceTransformerEmbeddings(model_name ='all-MiniLM-L6-v2')"
   ]
  },
  {
   "cell_type": "code",
   "execution_count": 48,
   "metadata": {},
   "outputs": [
    {
     "data": {
      "text/plain": [
       "384"
      ]
     },
     "execution_count": 48,
     "metadata": {},
     "output_type": "execute_result"
    }
   ],
   "source": [
    "vectors=embeddings.embed_query('How are you')\n",
    "len(vectors)"
   ]
  },
  {
   "cell_type": "code",
   "execution_count": 9,
   "metadata": {},
   "outputs": [],
   "source": [
    "##vecotor sb in pineconp\n",
    "pinecone_api_key = os.environ.get(\"PINECONE_API_KEY\")\n",
    "pinecone_api_key\n",
    "p = pinecone.Pinecone(api_key=pinecone_api_key)\n",
    "index=p.Index('pdfvector')\n",
    "index_name='pdfvector'\n"
   ]
  },
  {
   "cell_type": "code",
   "execution_count": 10,
   "metadata": {},
   "outputs": [],
   "source": [
    "vector=Pinecone.from_documents(doc,embeddings,index_name=index_name)"
   ]
  },
  {
   "cell_type": "code",
   "execution_count": 11,
   "metadata": {},
   "outputs": [],
   "source": [
    "def retrive_query(query,k=2):\n",
    "    matching_result=vector.similarity_search(query,k=k)\n",
    "    return matching_result"
   ]
  },
  {
   "cell_type": "code",
   "execution_count": 12,
   "metadata": {},
   "outputs": [],
   "source": [
    "from langchain.chains.question_answering import load_qa_chain\n"
   ]
  },
  {
   "cell_type": "code",
   "execution_count": 58,
   "metadata": {},
   "outputs": [],
   "source": [
    "\n",
    "gen_ai_key=os.environ[\"GOOGLE_API_KEY\"]\n",
    "gen_ai_key\n",
    "llm = ChatGoogleGenerativeAI(model=\"gemini-pro\", client=genai,temperature=1)\n",
    "prompt_template = \"\"\"\n",
    "    Answer the question as detailed as possible from the provided Context below, make sure to provide all the details, if the answer is not in\n",
    "    provided context just say, \"Answer is not available in the PDF\", don't provide the wrong answer\\n\\n\n",
    "    Context:\\n {context}?\\n\n",
    "    Question: \\n{question}\\n\n",
    "\n",
    "    Answer:\n",
    "    \"\"\"\n",
    "prompt = PromptTemplate(template=prompt_template,\n",
    "                            input_variables=[\"context\", \"question\"])"
   ]
  },
  {
   "cell_type": "code",
   "execution_count": 35,
   "metadata": {},
   "outputs": [
    {
     "data": {
      "text/plain": [
       "PromptTemplate(input_variables=['context', 'question'], template='\\n    Answer the question from context, make sure to provide all the details,\\n\\n\\n    Context:\\n {context}?\\n\\n    Question: \\n{question}\\n\\n\\n    Answer:\\n    ')"
      ]
     },
     "execution_count": 35,
     "metadata": {},
     "output_type": "execute_result"
    }
   ],
   "source": [
    "prompt"
   ]
  },
  {
   "cell_type": "code",
   "execution_count": 59,
   "metadata": {},
   "outputs": [],
   "source": [
    "chain=load_qa_chain(llm=llm,chain_type=\"stuff\",prompt=prompt,verbose=True)"
   ]
  },
  {
   "cell_type": "code",
   "execution_count": 60,
   "metadata": {},
   "outputs": [],
   "source": [
    "####Search answer from vectorDB\n",
    "\n",
    "def retrive_answer(query):\n",
    "    doc_search=retrive_query(query)\n",
    "    \n",
    "    print(doc_search)\n",
    "    print(query)\n",
    "    response=chain.run(input_documents=doc_search, question=query,return_only_outputs=True)\n",
    "    return response"
   ]
  },
  {
   "cell_type": "code",
   "execution_count": 67,
   "metadata": {},
   "outputs": [
    {
     "name": "stdout",
     "output_type": "stream",
     "text": [
      "[Document(page_content='Cricket  \\n \\n2 \\n \\n \\nTeam Size  \\nIn cricket, ea ch playing side has 11 players and o ne of them is appointed as \\ncaptain. Apart from these 11 players, there are a few more players on each side \\nwho can only field as substitute for  an injured team member . The fielding tea m \\nshould have 11 players and the opposition can send only two batsmen on the \\nground at the time of play.   \\n \\nA 15-member squad is a must for all international tourname nts conducted by the \\ncricket’s governing body, International Cricket Co uncil (ICC).', metadata={'page': 5.0, 'source': 'documents\\\\cricket.pdf'}), Document(page_content='team. Further in the document, one can closely understand the game, its popular \\nterms and rules.  \\n \\n \\n \\n1. CRICKET  – A BAT & BALL GAME', metadata={'page': 4.0, 'source': 'documents\\\\cricket.pdf'})]\n",
      "team size\n",
      "\n",
      "\n",
      "\u001b[1m> Entering new StuffDocumentsChain chain...\u001b[0m\n",
      "\n",
      "\n",
      "\u001b[1m> Entering new LLMChain chain...\u001b[0m\n",
      "Prompt after formatting:\n",
      "\u001b[32;1m\u001b[1;3m\n",
      "    Answer the question as detailed as possible from the provided Context below, make sure to provide all the details, if the answer is not in\n",
      "    provided context just say, \"Answer is not available in the PDF\", don't provide the wrong answer\n",
      "\n",
      "\n",
      "    Context:\n",
      " Cricket  \n",
      " \n",
      "2 \n",
      " \n",
      " \n",
      "Team Size  \n",
      "In cricket, ea ch playing side has 11 players and o ne of them is appointed as \n",
      "captain. Apart from these 11 players, there are a few more players on each side \n",
      "who can only field as substitute for  an injured team member . The fielding tea m \n",
      "should have 11 players and the opposition can send only two batsmen on the \n",
      "ground at the time of play.   \n",
      " \n",
      "A 15-member squad is a must for all international tourname nts conducted by the \n",
      "cricket’s governing body, International Cricket Co uncil (ICC).\n",
      "\n",
      "team. Further in the document, one can closely understand the game, its popular \n",
      "terms and rules.  \n",
      " \n",
      " \n",
      " \n",
      "1. CRICKET  – A BAT & BALL GAME?\n",
      "\n",
      "    Question: \n",
      "team size\n",
      "\n",
      "\n",
      "    Answer:\n",
      "    \u001b[0m\n",
      "\n",
      "\u001b[1m> Finished chain.\u001b[0m\n",
      "\n",
      "\u001b[1m> Finished chain.\u001b[0m\n",
      "Each playing side has 11 players and one of them is appointed as captain. Apart from these 11 players, there are a few more players on each side who can only field as substitute for an injured team member.\n"
     ]
    }
   ],
   "source": [
    "our_query=\"team size\"\n",
    "\n",
    "answer=retrive_answer(our_query)\n",
    "\n",
    "print(answer)"
   ]
  },
  {
   "cell_type": "code",
   "execution_count": 70,
   "metadata": {},
   "outputs": [
    {
     "name": "stdout",
     "output_type": "stream",
     "text": [
      "<generator object list_models at 0x000002E082A8C640>\n"
     ]
    }
   ],
   "source": [
    "print(genai.list_models())"
   ]
  },
  {
   "cell_type": "code",
   "execution_count": null,
   "metadata": {},
   "outputs": [],
   "source": []
  }
 ],
 "metadata": {
  "kernelspec": {
   "display_name": "llmenv",
   "language": "python",
   "name": "python3"
  },
  "language_info": {
   "codemirror_mode": {
    "name": "ipython",
    "version": 3
   },
   "file_extension": ".py",
   "mimetype": "text/x-python",
   "name": "python",
   "nbconvert_exporter": "python",
   "pygments_lexer": "ipython3",
   "version": "3.11.4"
  }
 },
 "nbformat": 4,
 "nbformat_minor": 2
}
